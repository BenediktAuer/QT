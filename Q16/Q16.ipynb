{
 "cells": [
  {
   "cell_type": "code",
   "execution_count": 25,
   "metadata": {},
   "outputs": [],
   "source": [
    "using Profile ,PProf"
   ]
  },
  {
   "cell_type": "markdown",
   "metadata": {},
   "source": [
    "We implemented the division-based Euklid algorithm"
   ]
  },
  {
   "cell_type": "code",
   "execution_count": 4,
   "metadata": {},
   "outputs": [
    {
     "data": {
      "text/plain": [
       "OwnGcd (generic function with 1 method)"
      ]
     },
     "metadata": {},
     "output_type": "display_data"
    }
   ],
   "source": [
    "function OwnGcd(a,b)\n",
    "    while b ≠ 0\n",
    "        t = b\n",
    "        b = a %b\n",
    "        a = t\n",
    "    end\n",
    "    return abs(a)\n",
    "end"
   ]
  },
  {
   "cell_type": "markdown",
   "metadata": {},
   "source": [
    "To test the code we genreater random integers and compare our fdunction to the build in one."
   ]
  },
  {
   "cell_type": "code",
   "execution_count": 5,
   "metadata": {},
   "outputs": [
    {
     "name": "stdout",
     "output_type": "stream",
     "text": [
      "gcd(a, b) = 2\n",
      "gcd(a, b) = 1\n",
      "gcd(a, b) = 10\n",
      "gcd(a, b) = 1\n",
      "gcd(a, b) = 4\n",
      "gcd(a, b) = 1\n",
      "gcd(a, b) = 1\n",
      "gcd(a, b) = 2\n",
      "gcd(a, b) = 1\n",
      "gcd(a, b) = 2\n"
     ]
    }
   ],
   "source": [
    "for _ in 1:10\n",
    "    a = rand(Int16)\n",
    "    b = rand(Int16)\n",
    "    @show gcd(a,b)\n",
    "    @assert OwnGcd(a,b) == gcd(a,b)\n",
    "end"
   ]
  },
  {
   "cell_type": "code",
   "execution_count": 6,
   "metadata": {},
   "outputs": [
    {
     "data": {
      "text/plain": [
       "findPeriod (generic function with 1 method)"
      ]
     },
     "metadata": {},
     "output_type": "display_data"
    }
   ],
   "source": [
    "function findPeriod(a,N)\n",
    "    x = 1\n",
    "    result = a % N\n",
    "    while result != 1\n",
    "        result = (result * a) % N\n",
    "        x += 1\n",
    "    end\n",
    "    return x\n",
    "end"
   ]
  },
  {
   "cell_type": "code",
   "execution_count": 7,
   "metadata": {},
   "outputs": [
    {
     "data": {
      "text/plain": [
       "findPrimeFactors (generic function with 1 method)"
      ]
     },
     "metadata": {},
     "output_type": "display_data"
    }
   ],
   "source": [
    "function findPrimeFactors(N)\n",
    "    while true\n",
    "    a = rand(1:N-1)\n",
    "    d = OwnGcd(a, N)\n",
    "    if d != 1\n",
    "        return d\n",
    "    end\n",
    "    r = findPeriod(a, N)\n",
    "    if r % 2 == 1\n",
    "        continue\n",
    "    end\n",
    "    a_r_half = powermod(a, r ÷ 2, N)\n",
    "    if a_r_half == N - 1\n",
    "        continue\n",
    "    end\n",
    "    return OwnGcd(a_r_half + 1, N), OwnGcd(a_r_half - 1, N)\n",
    "end\n",
    "end"
   ]
  },
  {
   "cell_type": "code",
   "execution_count": 8,
   "metadata": {},
   "outputs": [
    {
     "data": {
      "text/plain": [
       "(233, 557)"
      ]
     },
     "metadata": {},
     "output_type": "display_data"
    }
   ],
   "source": [
    "findPrimeFactors(129781)"
   ]
  },
  {
   "cell_type": "code",
   "execution_count": 9,
   "metadata": {},
   "outputs": [
    {
     "data": {
      "text/plain": [
       "(1231, 2027)"
      ]
     },
     "metadata": {},
     "output_type": "display_data"
    }
   ],
   "source": [
    "findPrimeFactors(2495237)"
   ]
  },
  {
   "cell_type": "markdown",
   "metadata": {},
   "source": [
    "# Execution time"
   ]
  },
  {
   "cell_type": "markdown",
   "metadata": {},
   "source": [
    "To measure the execution time the elapsed time of each call inside findPrimeFactors is added to a specific local counter, these are returned, when the prime factors are found. We take 400 samples and avreage over them, to get useful statistics.\n",
    "(We assume if statements as well as multiplication and modulo operations to be $\\mathcal{O}(1)$)"
   ]
  },
  {
   "cell_type": "code",
   "execution_count": 132,
   "metadata": {},
   "outputs": [
    {
     "data": {
      "text/plain": [
       "findPrimeFactorsBench (generic function with 1 method)"
      ]
     },
     "metadata": {},
     "output_type": "display_data"
    }
   ],
   "source": [
    "function findPrimeFactorsBench(N)\n",
    "    timer_getRand = 0.\n",
    "    timer_findPeriod= 0.\n",
    "    timer_gcd1=0.\n",
    "    timer_gcd_2 = 0.\n",
    "    while true\n",
    "        \n",
    "        timer_getRand += @elapsed a = rand(1:N-1)\n",
    "        timer_gcd1 += @elapsed d = OwnGcd(a, N)\n",
    "    if d != 1\n",
    "        return d\n",
    "    end\n",
    "    timer_findPeriod += @elapsed r = findPeriod(a, N)\n",
    "    if r % 2 == 1\n",
    "        continue\n",
    "    end\n",
    "    a_r_half = powermod(a, r ÷ 2, N)\n",
    "    if a_r_half == N - 1\n",
    "        continue\n",
    "    end\n",
    "    timer_gcd_2+=@elapsed begin \n",
    "        ret1 = OwnGcd(a_r_half + 1, N)\n",
    "        ret2 =  OwnGcd(a_r_half - 1, N)\n",
    "    end\n",
    "    return  [timer_getRand,timer_findPeriod,timer_gcd1,timer_gcd_2]\n",
    "    end\n",
    "end"
   ]
  },
  {
   "cell_type": "code",
   "execution_count": 140,
   "metadata": {},
   "outputs": [
    {
     "data": {
      "text/plain": [
       "4×1 Matrix{Float64}:\n",
       " 3.459999999999982e-8\n",
       " 0.00010072116250000006\n",
       " 7.002500000000001e-8\n",
       " 4.875249999999991e-8"
      ]
     },
     "metadata": {},
     "output_type": "display_data"
    }
   ],
   "source": [
    "test1 = [findPrimeFactorsBench(129781) for i in 1:400]\n",
    "mean(reshape(reduce(vcat,test1), (4,length(test1))),dims=2)"
   ]
  },
  {
   "cell_type": "code",
   "execution_count": 141,
   "metadata": {},
   "outputs": [
    {
     "data": {
      "text/plain": [
       "4×1 Matrix{Float64}:\n",
       " 1.7465500000000005e-7\n",
       " 0.0044387101174999995\n",
       " 1.357775e-7\n",
       " 7.172499999999991e-8"
      ]
     },
     "metadata": {},
     "output_type": "display_data"
    }
   ],
   "source": [
    "test = [findPrimeFactorsBench(2495237) for i in 1:400]\n",
    "mean(reshape(reduce(vcat,test), (4,length(test))),dims=2)"
   ]
  },
  {
   "cell_type": "markdown",
   "metadata": {},
   "source": [
    "As we can see for both numbers the execution speed for the find period is much slower than for the other functions, therefore this is the bottleneck."
   ]
  },
  {
   "cell_type": "code",
   "execution_count": null,
   "metadata": {},
   "outputs": [],
   "source": []
  },
  {
   "cell_type": "code",
   "execution_count": null,
   "metadata": {},
   "outputs": [],
   "source": []
  }
 ],
 "metadata": {
  "kernelspec": {
   "display_name": "Julia 1.10.2",
   "language": "julia",
   "name": "julia-1.10"
  },
  "language_info": {
   "file_extension": ".jl",
   "mimetype": "application/julia",
   "name": "julia",
   "version": "1.10.2"
  }
 },
 "nbformat": 4,
 "nbformat_minor": 2
}
