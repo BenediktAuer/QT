{
 "cells": [
  {
   "cell_type": "code",
   "execution_count": 3,
   "metadata": {},
   "outputs": [],
   "source": [
    "using Plots, DifferentialEquations,LaTeXStrings"
   ]
  },
  {
   "cell_type": "code",
   "execution_count": 4,
   "metadata": {},
   "outputs": [
    {
     "data": {
      "text/plain": [
       "bloch!"
      ]
     },
     "metadata": {},
     "output_type": "display_data"
    }
   ],
   "source": [
    "#def the problem\n",
    "\"\"\"\n",
    "du = change in state \n",
    "u = current state (ρ₂₂,ρ₁₁,ρ₂₁, ρ₁₂)\n",
    "p = parameters (γ,Ω,γ⟂,Δ)\n",
    "t = time\n",
    "\n",
    "\"\"\"\n",
    "function bloch!(du, u, p, t) \n",
    "    du[1] = -p[1]*u[1]-(im/2 *p[2]*u[3]-im/2*conj(p[2])*u[4]  )\n",
    "    du[2] = +p[1]*u[1]+(im/2 *p[2]*u[3]-im/2*conj(p[2])*u[4]  )\n",
    "    du[3] = -(im*p[4]+p[3])*u[3]-im/2*p[2]*(u[1]-u[2])\n",
    "    du[4] = -(-im*p[4]+p[3])*u[4]+im/2*p[2]*(u[1]-u[2])\n",
    "end\n"
   ]
  },
  {
   "cell_type": "markdown",
   "metadata": {},
   "source": [
    "Rate equations as given on the sheet:"
   ]
  },
  {
   "cell_type": "code",
   "execution_count": 17,
   "metadata": {},
   "outputs": [
    {
     "data": {
      "text/plain": [
       "rateeq (generic function with 1 method)"
      ]
     },
     "metadata": {},
     "output_type": "display_data"
    }
   ],
   "source": [
    "#rate equations\n",
    "function rateeq(t,P_10,P_20,A,B)\n",
    "    P_1 = P_10-1/(A+2*B)*(1-exp(-(A+2*B)*t))*(B*P_10-(A+2*B)*P_20)\n",
    "    P_2 = P_20+1/(A+2*B)*(1-exp(-(A+2*B)*t))*(B*P_10-(A+2*B)*P_20)\n",
    "    return P_2,P_1\n",
    "end"
   ]
  },
  {
   "cell_type": "markdown",
   "metadata": {},
   "source": [
    "Function to get the Einsteincoefficents for a given set of Bloch eq. parameters. See exericice a) for a derivation:"
   ]
  },
  {
   "cell_type": "code",
   "execution_count": 67,
   "metadata": {},
   "outputs": [
    {
     "data": {
      "text/plain": [
       "getEinstein"
      ]
     },
     "metadata": {},
     "output_type": "display_data"
    }
   ],
   "source": [
    "\"\"\"\n",
    "p = parameters (γ,Ω,γ⟂,Δ)\n",
    "\"\"\"\n",
    "function getEinstein(p)\n",
    "    A= (p[4]^2+p[3]^2)\n",
    "    B = p[3]/(2*p[1])*p[2]^2\n",
    "    return A,B\n",
    "end"
   ]
  },
  {
   "cell_type": "markdown",
   "metadata": {},
   "source": [
    "## Safety check\n",
    "We start with the safty check, to make sure the implementation is correct.\n",
    " Solve problem problem for an simple decay :"
   ]
  },
  {
   "cell_type": "code",
   "execution_count": 68,
   "metadata": {},
   "outputs": [
    {
     "data": {
      "text/plain": [
       "retcode: Success\n",
       "Interpolation: specialized 7th order lazy interpolation, specialized 4rd order \"free\" stiffness-aware interpolation\n",
       "t: 14-element Vector{Float64}:\n",
       "   0.0\n",
       "   0.00999000500498377\n",
       "   0.10989005505482147\n",
       "   1.1088905555531983\n",
       "   4.563004540305134\n",
       "  10.375580786394565\n",
       "  17.827804493080816\n",
       "  26.510618774963312\n",
       "  36.624786724011635\n",
       "  48.34869982262343\n",
       "  66.43086174117931\n",
       "  77.10008575485216\n",
       "  95.4722397365088\n",
       " 100.0\n",
       "u: 14-element Vector{Vector{ComplexF64}}:\n",
       " [1.0 + 0.0im, 0.0 + 0.0im, 0.0 + 0.0im, 0.0 + 0.0im]\n",
       " [0.9990014983343757 + 0.0im, 0.0009985016656243035 + 0.0im, 0.0 + 0.0im, 0.0 + 0.0im]\n",
       " [0.98907115305296 + 0.0im, 0.010928846947039998 + 0.0im, 0.0 + 0.0im, 0.0 + 0.0im]\n",
       " [0.8950380429195136 + 0.0im, 0.10496195708048639 + 0.0im, 0.0 + 0.0im, 0.0 + 0.0im]\n",
       " [0.6336234338315547 + 0.0im, 0.3663765661684453 + 0.0im, 0.0 + 0.0im, 0.0 + 0.0im]\n",
       " [0.3543188466121904 + 0.0im, 0.6456811533878096 + 0.0im, 0.0 + 0.0im, 0.0 + 0.0im]\n",
       " [0.16816991217225724 + 0.0im, 0.8318300878277428 + 0.0im, 0.0 + 0.0im, 0.0 + 0.0im]\n",
       " [0.07057623186689486 + 0.0im, 0.9294237681331052 + 0.0im, 0.0 + 0.0im, 0.0 + 0.0im]\n",
       " [0.025668803307851592 + 0.0im, 0.9743311966921485 + 0.0im, 0.0 + 0.0im, 0.0 + 0.0im]\n",
       " [0.007947701234873311 + 0.0im, 0.9920522987651268 + 0.0im, 0.0 + 0.0im, 0.0 + 0.0im]\n",
       " [0.0013023052581096633 + 0.0im, 0.9986976947418904 + 0.0im, 0.0 + 0.0im, 0.0 + 0.0im]\n",
       " [0.00044807840954673537 + 0.0im, 0.9995519215904534 + 0.0im, 0.0 + 0.0im, 0.0 + 0.0im]\n",
       " [7.131515482894488e-5 + 0.0im, 0.9999286848451712 + 0.0im, 0.0 + 0.0im, 0.0 + 0.0im]\n",
       " [4.53464924383393e-5 + 0.0im, 0.9999546535075617 + 0.0im, 0.0 + 0.0im, 0.0 + 0.0im]"
      ]
     },
     "metadata": {},
     "output_type": "display_data"
    }
   ],
   "source": [
    "# initial values\n",
    "u0 = ComplexF64[1.0; 0;0.0;0.0] #u = current state (ρ₂₂,ρ₁₁,ρ₂₁, ρ₁₂)\n",
    "# time to solve\n",
    "tspan = (0.0, 100.0)\n",
    "p = [0.1,0,0,0] #p = parameters (γ,Ω,γ⟂,Δ)\n",
    "prob = ODEProblem(bloch!, u0, tspan, p)\n",
    "sol = solve(prob) "
   ]
  },
  {
   "cell_type": "code",
   "execution_count": 69,
   "metadata": {},
   "outputs": [
    {
     "data": {
      "text/plain": [
       "f (generic function with 1 method)"
      ]
     },
     "metadata": {},
     "output_type": "display_data"
    }
   ],
   "source": [
    "#function for plotting\n",
    "f(t, x ) = (t, real(x))"
   ]
  },
  {
   "cell_type": "code",
   "execution_count": 74,
   "metadata": {},
   "outputs": [
    {
     "data": {
      "text/plain": [
       "\"/home/benedikt/Documents/Master/QT/Q6/test.pdf\""
      ]
     },
     "metadata": {},
     "output_type": "display_data"
    }
   ],
   "source": [
    "plot(sol,idxs =(f,0,1),label=L\"\\rho_{22}\")\n",
    "plot!(0:0.1:100,t->1*exp(-p[1]*t),ls=:dash,label=L\"\\exp{(-\\gamma\\cdot t)}\", title=L\"\\gamma =0.1, \\Delta=\\Omega=0 \")\n",
    "savefig(\"test.pdf\")"
   ]
  },
  {
   "cell_type": "markdown",
   "metadata": {},
   "source": [
    "As expected with out any external field, a exponential decay is observable."
   ]
  },
  {
   "cell_type": "markdown",
   "metadata": {},
   "source": [
    "## Solving the Bloch eq for diffrent $\\gamma_\\perp$ and comparison to the Einsteinequations"
   ]
  },
  {
   "cell_type": "code",
   "execution_count": 73,
   "metadata": {},
   "outputs": [
    {
     "data": {
      "text/plain": [
       "\"/home/benedikt/Documents/Master/QT/Q6/rest.pdf\""
      ]
     },
     "metadata": {},
     "output_type": "display_data"
    }
   ],
   "source": [
    "# initial values \n",
    "u0 = ComplexF64[0; 1;0.0;0.0] #u = current state (ρ₂₂,ρ₁₁,ρ₂₁, ρ₁₂)\n",
    "# time to solve\n",
    "tspan = (0.0, 100.0)\n",
    "plots = []\n",
    "γ_senkrs = [0.1,0.5,1,5,10]\n",
    "for γ_senkr in γ_senkrs\n",
    "    prob = ODEProblem(bloch!, u0, tspan, [0.1,1,γ_senkr,0]) #p = parameters (γ,Ω,γ⟂,Δ)\n",
    "    sol = solve(prob) \n",
    "    Ps = (rateeq.(0:0.1:100,1,0,getEinstein([0.1,1,γ_senkr,0])...))\n",
    "    P1 = [x[1] for x in Ps]\n",
    "    P2 = [x[2] for x in Ps]\n",
    "    a = plot(sol,idxs =(f,0,1),label=L\"\\rho_{22}\",title = L\"\\gamma_\\perp = %$γ_senkr\")\n",
    "    plot!(0:0.1:100, P1,label=L\"N_2\")\n",
    "    b = plot(sol,idxs =(f,0,2),label=L\"\\rho_{11}\", title=L\"\\gamma_\\perp = %$γ_senkr\")\n",
    "        plot!(0:0.1:100, P2,label=L\"N_2\")\n",
    "    append!(plots,(a,b))\n",
    "end\n",
    "plot(plot.(plots)..., layout=(length(γ_senkrs),2),size=(2000,2000))\n",
    "savefig(\"rest.pdf\")"
   ]
  },
  {
   "cell_type": "code",
   "execution_count": null,
   "metadata": {},
   "outputs": [],
   "source": []
  }
 ],
 "metadata": {
  "kernelspec": {
   "display_name": "Julia 1.10.2",
   "language": "julia",
   "name": "julia-1.10"
  },
  "language_info": {
   "file_extension": ".jl",
   "mimetype": "application/julia",
   "name": "julia",
   "version": "1.10.2"
  }
 },
 "nbformat": 4,
 "nbformat_minor": 2
}
