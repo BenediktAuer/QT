{
 "cells": [
  {
   "cell_type": "code",
   "execution_count": 1,
   "metadata": {},
   "outputs": [],
   "source": [
    "using DataFrames,CSV,StatsBase, Plots, StatsPlots,LaTeXStrings"
   ]
  },
  {
   "cell_type": "code",
   "execution_count": 2,
   "metadata": {},
   "outputs": [
    {
     "data": {
      "text/plain": [
       "get_hist (generic function with 1 method)"
      ]
     },
     "metadata": {},
     "output_type": "display_data"
    }
   ],
   "source": [
    "get_Data(x::Int) = DataFrame(CSV.File(\"Question2_Set$x.csv\",header=[:y]))\n",
    "get_hist(df,binning) =  @df df  fit(Histogram, :y, binning ,closed=:left)\n"
   ]
  },
  {
   "cell_type": "code",
   "execution_count": 3,
   "metadata": {},
   "outputs": [
    {
     "data": {
      "text/plain": [
       "binning (generic function with 1 method)"
      ]
     },
     "metadata": {},
     "output_type": "display_data"
    }
   ],
   "source": [
    "#functions for Allan standard deviation\n",
    "allan_Var(x) = 1/(2*(length(x)-1)) *sum((x[i+1]-x[i])^2 for i in Iterators.take(eachindex(x),length(x)-1))\n",
    "binning(x,τ) = [mean(i) for i in Iterators.partition(x,τ)]"
   ]
  },
  {
   "cell_type": "code",
   "execution_count": 4,
   "metadata": {},
   "outputs": [
    {
     "data": {
      "text/plain": [
       "198-element Vector{Int64}:\n",
       "    1\n",
       "    2\n",
       "    3\n",
       "    4\n",
       "    5\n",
       "    6\n",
       "    7\n",
       "    8\n",
       "    9\n",
       "   10\n",
       "    ⋮\n",
       " 1000\n",
       " 1111\n",
       " 1250\n",
       " 1428\n",
       " 1666\n",
       " 2000\n",
       " 2500\n",
       " 3333\n",
       " 5000"
      ]
     },
     "metadata": {},
     "output_type": "display_data"
    }
   ],
   "source": [
    "τs = 1:5000\n",
    "K = unique(floor.(Int,10000 ./τs))\n",
    "τs_used = floor.(Int,10000 ./K)"
   ]
  },
  {
   "cell_type": "code",
   "execution_count": 6,
   "metadata": {},
   "outputs": [
    {
     "data": {
      "text/plain": [
       "\"/home/benedikt/Documents/Master/QT/Q2/Bilder/Pic1.png\""
      ]
     },
     "metadata": {},
     "output_type": "display_data"
    }
   ],
   "source": [
    "@df get_Data(1) plot(:y,label=\"Set 1\")\n",
    "@df get_Data(2) plot!(:y,label=\"Set 2\")\n",
    "@df get_Data(3) plot!(:y,label=\"Set 3\",xlabel=\"t / s\",ylabel=\"y / a.u.\")\n",
    "savefig(\"Bilder/Pic1.png\")"
   ]
  },
  {
   "cell_type": "code",
   "execution_count": 7,
   "metadata": {},
   "outputs": [
    {
     "data": {
      "text/plain": [
       "\"/home/benedikt/Documents/Master/QT/Q2/Bilder/Pic2.png\""
      ]
     },
     "metadata": {},
     "output_type": "display_data"
    }
   ],
   "source": [
    " plot(get_hist(get_Data(1), -5:1:40), label=\"Set 1\", xlabel=\"y / a.u.\",ylabel=\"hits\")\n",
    " savefig(\"Bilder/Pic2.png\")"
   ]
  },
  {
   "cell_type": "code",
   "execution_count": 8,
   "metadata": {},
   "outputs": [
    {
     "data": {
      "text/plain": [
       "\"/home/benedikt/Documents/Master/QT/Q2/Bilder/Pic3.png\""
      ]
     },
     "metadata": {},
     "output_type": "display_data"
    }
   ],
   "source": [
    "plot(get_hist(get_Data(2), -0:1:70), label=\"Set 2\", xlabel=\"y / a.u.\",ylabel=\"hits\")\n",
    "savefig(\"Bilder/Pic3.png\")"
   ]
  },
  {
   "cell_type": "code",
   "execution_count": 9,
   "metadata": {},
   "outputs": [
    {
     "data": {
      "text/plain": [
       "\"/home/benedikt/Documents/Master/QT/Q2/Bilder/Pic4.png\""
      ]
     },
     "metadata": {},
     "output_type": "display_data"
    }
   ],
   "source": [
    "plot(get_hist(get_Data(3), -5:1:70), label=\"Set 3\", xlabel=\"y / a.u.\",ylabel=\"hits\")\n",
    "savefig(\"Bilder/Pic4.png\")"
   ]
  },
  {
   "cell_type": "code",
   "execution_count": 10,
   "metadata": {},
   "outputs": [
    {
     "data": {
      "text/plain": [
       "198-element Vector{Int64}:\n",
       "    1\n",
       "    2\n",
       "    3\n",
       "    4\n",
       "    5\n",
       "    6\n",
       "    7\n",
       "    8\n",
       "    9\n",
       "   10\n",
       "    ⋮\n",
       " 1000\n",
       " 1111\n",
       " 1250\n",
       " 1428\n",
       " 1666\n",
       " 2000\n",
       " 2500\n",
       " 3333\n",
       " 5000"
      ]
     },
     "metadata": {},
     "output_type": "display_data"
    }
   ],
   "source": [
    "τs_used"
   ]
  },
  {
   "cell_type": "code",
   "execution_count": 11,
   "metadata": {},
   "outputs": [
    {
     "data": {
      "text/plain": [
       "2.1272515552402353"
      ]
     },
     "metadata": {},
     "output_type": "display_data"
    }
   ],
   "source": [
    "@df get_Data(1) sqrt(allan_Var(binning(:y,floor.(Int,10000 ./K)[end])))"
   ]
  },
  {
   "cell_type": "code",
   "execution_count": 19,
   "metadata": {},
   "outputs": [
    {
     "data": {
      "text/plain": [
       "\"/home/benedikt/Documents/Master/QT/Q2/Bilder/Pic5_zoom.png\""
      ]
     },
     "metadata": {},
     "output_type": "display_data"
    }
   ],
   "source": [
    "@df get_Data(1) scatter(floor.(Int,10000 ./K)[1:40], x-> sqrt(allan_Var(binning(:y,Int(x)))),label=\"set 1\",xlabel=\"τ / s\",ylabel=L\"\\sigma_\\tau\" )\n",
    "savefig(\"Bilder/Pic5_zoom.png\")"
   ]
  },
  {
   "cell_type": "code",
   "execution_count": 27,
   "metadata": {},
   "outputs": [
    {
     "data": {
      "text/plain": [
       "\"/home/benedikt/Documents/Master/QT/Q2/Bilder/Pic6_all.png\""
      ]
     },
     "metadata": {},
     "output_type": "display_data"
    }
   ],
   "source": [
    "@df get_Data(2) scatter(floor.(Int,10000 ./K), τ-> sqrt(allan_Var(binning(:y,Int(τ)))),label=\"set 2\",xlabel=\"τ / s\",ylabel=L\"\\sigma_\\tau\")\n",
    "savefig(\"Bilder/Pic6_all.png\")"
   ]
  },
  {
   "cell_type": "code",
   "execution_count": 38,
   "metadata": {},
   "outputs": [
    {
     "data": {
      "text/plain": [
       "\"/home/benedikt/Documents/Master/QT/Q2/Bilder/Pic7_zoom.png\""
      ]
     },
     "metadata": {},
     "output_type": "display_data"
    }
   ],
   "source": [
    "@df get_Data(3) scatter(floor.(Int,10000 ./K)[1:60], τ-> sqrt(allan_Var(binning(:y,Int(τ)))),label=\"set 3\",xlabel=\"τ / s\",ylabel=L\"\\sigma_\\tau\")\n",
    "savefig(\"Bilder/Pic7_zoom.png\")"
   ]
  },
  {
   "cell_type": "code",
   "execution_count": null,
   "metadata": {},
   "outputs": [],
   "source": []
  }
 ],
 "metadata": {
  "kernelspec": {
   "display_name": "Julia 1.10.2",
   "language": "julia",
   "name": "julia-1.10"
  },
  "language_info": {
   "file_extension": ".jl",
   "mimetype": "application/julia",
   "name": "julia",
   "version": "1.10.2"
  }
 },
 "nbformat": 4,
 "nbformat_minor": 2
}
